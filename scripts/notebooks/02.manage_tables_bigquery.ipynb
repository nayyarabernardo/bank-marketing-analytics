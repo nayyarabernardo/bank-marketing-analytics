{
 "cells": [
  {
   "cell_type": "markdown",
   "metadata": {},
   "source": [
    "# Manage Tables BigQuery"
   ]
  },
  {
   "cell_type": "markdown",
   "metadata": {},
   "source": [
    "## Libs"
   ]
  },
  {
   "cell_type": "code",
   "execution_count": 1,
   "metadata": {},
   "outputs": [],
   "source": [
    "import os\n",
    "import logging\n",
    "from google.cloud import bigquery\n",
    "from typing import List, Optional"
   ]
  },
  {
   "cell_type": "code",
   "execution_count": 12,
   "metadata": {},
   "outputs": [],
   "source": [
    "# Configurando o caminho para o arquivo de credenciais\n",
    "os.environ[\"GOOGLE_APPLICATION_CREDENTIALS\"] = \"../../key.json\"\n",
    "\n",
    "# Inicializando o cliente\n",
    "client = bigquery.Client()"
   ]
  },
  {
   "cell_type": "markdown",
   "metadata": {},
   "source": [
    "## Criação de Database"
   ]
  },
  {
   "cell_type": "code",
   "execution_count": 3,
   "metadata": {},
   "outputs": [
    {
     "name": "stdout",
     "output_type": "stream",
     "text": [
      "Created dataset bankmarketingdatapipeline.retail\n"
     ]
    }
   ],
   "source": [
    "# Set dataset_id to the ID of the dataset to create.\n",
    "dataset_id = \"bankmarketingdatapipeline.retail\".format(client.project)\n",
    "# Construct a full Dataset object to send to the API.\n",
    "dataset = bigquery.Dataset(dataset_id)\n",
    "\n",
    "# TODO(developer): Specify the geographic location where the dataset should reside.\n",
    "dataset.location = \"US\"\n",
    "\n",
    "# Send the dataset to the API for creation, with an explicit timeout.\n",
    "# Raises google.api_core.exceptions.Conflict if the Dataset already\n",
    "# exists within the project.\n",
    "dataset = client.create_dataset(dataset, timeout=30)  # Make an API request.\n",
    "print(\"Created dataset {}.{}\".format(client.project, dataset.dataset_id))"
   ]
  },
  {
   "cell_type": "markdown",
   "metadata": {},
   "source": [
    "## Table departments"
   ]
  },
  {
   "cell_type": "code",
   "execution_count": 5,
   "metadata": {},
   "outputs": [
    {
     "name": "stdout",
     "output_type": "stream",
     "text": [
      "Created table bankmarketingdatapipeline.retail.departments\n"
     ]
    }
   ],
   "source": [
    "table_departments = \"bankmarketingdatapipeline.retail.departments\"\n",
    "\n",
    "schema_departments = [\n",
    "    bigquery.SchemaField(\"department_id\",\"INT64\", mode=\"REQUIRED\", description=\"department id\"),\n",
    "    bigquery.SchemaField(\"department_name\",\"STRING\", mode=\"REQUIRED\", description=\"department name\"),\n",
    "]\n",
    "\n",
    "table = bigquery.Table(table_departments, schema=schema_departments)\n",
    "table = client.create_table(table)  \n",
    "print(\n",
    "    f\"Created table {table_departments}\"\n",
    ")"
   ]
  },
  {
   "cell_type": "markdown",
   "metadata": {},
   "source": [
    "## Table Order"
   ]
  },
  {
   "cell_type": "code",
   "execution_count": 15,
   "metadata": {},
   "outputs": [
    {
     "name": "stdout",
     "output_type": "stream",
     "text": [
      "Created table bankmarketingdatapipeline.retail.order\n"
     ]
    }
   ],
   "source": [
    "table_or = \"bankmarketingdatapipeline.retail.order\"\n",
    "\n",
    "\n",
    "schema_order = [\n",
    "    bigquery.SchemaField(\"order_id\",\"INTEGER\", mode=\"REQUIRED\", description=\"Id da tabela order\"),\n",
    "    bigquery.SchemaField(\"order_date\",\"TIMESTAMP\", mode=\"REQUIRED\", description=\"Order date\"),\n",
    "    bigquery.SchemaField(\"order_customer_id\",\"INTEGER\", mode=\"NULLABLE\", description=\"Order customer id\"),\n",
    "    bigquery.SchemaField(\"order_status\",\"STRING\", mode=\"NULLABLE\", description=\"Status Order\"),\n",
    "]\n",
    "\n",
    "table = bigquery.Table(table_or, schema=schema_order)\n",
    "table = client.create_table(table)  \n",
    "print(\n",
    "    f\"Created table {table_or}\"\n",
    ")"
   ]
  },
  {
   "cell_type": "markdown",
   "metadata": {},
   "source": [
    "## Table Categories"
   ]
  },
  {
   "cell_type": "code",
   "execution_count": 10,
   "metadata": {},
   "outputs": [
    {
     "name": "stdout",
     "output_type": "stream",
     "text": [
      "Created table bankmarketingdatapipeline.retail.categories\n"
     ]
    }
   ],
   "source": [
    "table_categories = \"bankmarketingdatapipeline.retail.categories\"\n",
    "\n",
    "schema_categories = [\n",
    "    bigquery.SchemaField(\"category_id\",\"INT64\", mode=\"REQUIRED\", description=\"categories id\"),\n",
    "    bigquery.SchemaField(\"category_department_id\",\"INT64\", mode=\"NULLABLE\", description=\"categories departamento id\"),\n",
    "    bigquery.SchemaField(\"category_name\",\"STRING\", mode=\"REQUIRED\", description=\"categories name\"),\n",
    "]\n",
    "\n",
    "table = bigquery.Table(table_categories, schema=schema_categories)\n",
    "table = client.create_table(table)  \n",
    "print(\n",
    "    f\"Created table {table_categories}\"\n",
    ")"
   ]
  },
  {
   "cell_type": "markdown",
   "metadata": {},
   "source": [
    "## Table Products"
   ]
  },
  {
   "cell_type": "code",
   "execution_count": 9,
   "metadata": {},
   "outputs": [
    {
     "name": "stdout",
     "output_type": "stream",
     "text": [
      "Created table bankmarketingdatapipeline.retail.products\n"
     ]
    }
   ],
   "source": [
    "table_products = \"bankmarketingdatapipeline.retail.products\"\n",
    "\n",
    "schema_products = [\n",
    "    bigquery.SchemaField(\"product_id\",\"INT64\", mode=\"REQUIRED\", description=\"products id\"),\n",
    "    bigquery.SchemaField(\"product_cateogry_id\",\"INT64\", mode=\"REQUIRED\", description=\"products cateogry id\"),\n",
    "    bigquery.SchemaField(\"product_name\",\"STRING\", mode=\"REQUIRED\", description=\"products name\"),\n",
    "    bigquery.SchemaField(\"product_description\",\"STRING\", mode=\"NULLABLE\", description=\"products description\"),\n",
    "    bigquery.SchemaField(\"product_price\",\"FLOAT\", mode=\"NULLABLE\", description=\"products pryce\"),\n",
    "    bigquery.SchemaField(\"product_image\",\"STRING\", mode=\"NULLABLE\", description=\"products Image\"),\n",
    "]\n",
    "\n",
    "table = bigquery.Table(table_products, schema=schema_products)\n",
    "table = client.create_table(table)  \n",
    "print(\n",
    "    f\"Created table {table_products}\"\n",
    ")"
   ]
  },
  {
   "cell_type": "markdown",
   "metadata": {},
   "source": [
    "## Table customers"
   ]
  },
  {
   "cell_type": "code",
   "execution_count": 8,
   "metadata": {},
   "outputs": [
    {
     "name": "stdout",
     "output_type": "stream",
     "text": [
      "Created table bankmarketingdatapipeline.retail.customers\n"
     ]
    }
   ],
   "source": [
    "table_customers = \"bankmarketingdatapipeline.retail.customers\"\n",
    "\n",
    "schema_customers = [\n",
    "    bigquery.SchemaField(\"customer_id\",\"INT64\", mode=\"REQUIRED\", description=\"customers id\"),\n",
    "    bigquery.SchemaField(\"customer_fname\",\"STRING\", mode=\"REQUIRED\", description=\"customers final name\"),\n",
    "    bigquery.SchemaField(\"customer_lname\",\"STRING\", mode=\"REQUIRED\", description=\"customers last name\"),\n",
    "    bigquery.SchemaField(\"customer_email\",\"STRING\", mode=\"NULLABLE\", description=\"customers email\"),\n",
    "    bigquery.SchemaField(\"customer_password\",\"STRING\", mode=\"REQUIRED\", description=\"customers password\"),\n",
    "    bigquery.SchemaField(\"customer_street\",\"STRING\", mode=\"NULLABLE\", description=\"customers street\"),\n",
    "    bigquery.SchemaField(\"customer_city\",\"STRING\", mode=\"NULLABLE\", description=\"customers city\"),\n",
    "    bigquery.SchemaField(\"customer_state\",\"STRING\", mode=\"NULLABLE\", description=\"customers state\"),\n",
    "    bigquery.SchemaField(\"customer_zipcode\",\"STRING\", mode=\"NULLABLE\", description=\"customers zipcode\"),\n",
    "]\n",
    "\n",
    "table = bigquery.Table(table_customers, schema=schema_customers)\n",
    "table = client.create_table(table)  \n",
    "print(\n",
    "    f\"Created table {table_customers}\"\n",
    ")"
   ]
  },
  {
   "cell_type": "markdown",
   "metadata": {},
   "source": [
    "## Table order items"
   ]
  },
  {
   "cell_type": "code",
   "execution_count": 7,
   "metadata": {},
   "outputs": [
    {
     "name": "stdout",
     "output_type": "stream",
     "text": [
      "Created table bankmarketingdatapipeline.retail.order_items\n"
     ]
    }
   ],
   "source": [
    "table_order_items = \"bankmarketingdatapipeline.retail.order_items\"\n",
    "\n",
    "schema_order_items = [\n",
    "    bigquery.SchemaField(\"order_item_id\",\"INT64\", mode=\"REQUIRED\", description=\"order_items id\"),\n",
    "    bigquery.SchemaField(\"order_item_order_id\",\"INT64\", mode=\"NULLABLE\", description=\"order_items order\"),\n",
    "    bigquery.SchemaField(\"order_item_product_id\",\"INT64\", mode=\"REQUIRED\", description=\"order_items produt id\"),\n",
    "    bigquery.SchemaField(\"order_item_quantity\",\"INT64\", mode=\"NULLABLE\", description=\"order_items quantity\"),\n",
    "    bigquery.SchemaField(\"order_item_subtotal\",\"FLOAT\", mode=\"NULLABLE\", description=\"order_items subtotal\"),\n",
    "    bigquery.SchemaField(\"order_item_product_price\",\"FLOAT\", mode=\"NULLABLE\", description=\"order_items price\"),\n",
    "]\n",
    "\n",
    "table = bigquery.Table(table_order_items, schema=schema_order_items)\n",
    "table = client.create_table(table)  \n",
    "print(\n",
    "    f\"Created table {table_order_items}\"\n",
    ")"
   ]
  }
 ],
 "metadata": {
  "kernelspec": {
   "display_name": "venv",
   "language": "python",
   "name": "python3"
  },
  "language_info": {
   "codemirror_mode": {
    "name": "ipython",
    "version": 3
   },
   "file_extension": ".py",
   "mimetype": "text/x-python",
   "name": "python",
   "nbconvert_exporter": "python",
   "pygments_lexer": "ipython3",
   "version": "3.12.3"
  }
 },
 "nbformat": 4,
 "nbformat_minor": 2
}
